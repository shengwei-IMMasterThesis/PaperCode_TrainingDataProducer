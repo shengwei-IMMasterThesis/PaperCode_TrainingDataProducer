{
 "cells": [
  {
   "cell_type": "code",
   "execution_count": 23,
   "metadata": {
    "collapsed": true
   },
   "outputs": [],
   "source": [
    "import os\n",
    "import json\n",
    "import codecs\n",
    "import pandas as pd"
   ]
  },
  {
   "cell_type": "code",
   "execution_count": 28,
   "metadata": {},
   "outputs": [],
   "source": [
    "def getTagList(Tag_Statistic, _getNum):\n",
    "    Tag_List = [ tag_stis[0] for tag_stis in Tag_Statistic[:_getNum]]\n",
    "    Tag_Index_Dic = {}\n",
    "    for i in range(len(Tag_List)):\n",
    "        Tag_Index_Dic.update({Tag_List[i]:i})\n",
    "    return Tag_List, Tag_Index_Dic"
   ]
  },
  {
   "cell_type": "code",
   "execution_count": 34,
   "metadata": {},
   "outputs": [],
   "source": [
    "def vectorizeTag(L_T_List, Tag_Index_Dic, _tagDim):\n",
    "    for song_index in range(len(L_T_List)):\n",
    "        Tag_Index_List = [ Tag_Index_Dic[tag] for tag in L_T_List[song_index][\"Tags\"]]\n",
    "        Tag_Vector = [ 0 for i in range(_tagDim)]\n",
    "        for index in Tag_Index_List:\n",
    "            Tag_Vector[index] = 1\n",
    "        L_T_List[song_index].update({'VectorizeTag':Tag_Vector})"
   ]
  },
  {
   "cell_type": "code",
   "execution_count": 96,
   "metadata": {},
   "outputs": [],
   "source": [
    "def VectorizedTrainingProducer(lyric_tag_data_filename, tag_statistic_filename, _tagNum):  \n",
    "    #readData\n",
    "    with codecs.open(lyric_tag_data_filename,'r',encoding = 'utf8') as infile:\n",
    "        L_T_List = json.load(infile)\n",
    "    with codecs.open(tag_statistic_filename,'r',encoding = 'utf8') as infile:\n",
    "        Tag_Statistic = json.load(infile)\n",
    "        #filt tags\n",
    "    Tag_List, Tag_Index_Dic = getTagList(Tag_Statistic, _tagNum)\n",
    "    \n",
    "    for song_index in range(len(L_T_List)):\n",
    "        Tag_Index_List = []\n",
    "        for tag in L_T_List[song_index]['Tags']:\n",
    "            if tag not in Tag_List:\n",
    "                L_T_List[song_index][\"Tags\"].remove(tag)\n",
    "            else:\n",
    "                Tag_Index_List.append(Tag_Index_Dic[tag])\n",
    "                #print('add')\n",
    "    #vectorize\n",
    "        Tag_Vector = [ 0 for i in range(_tagNum)]\n",
    "        for index in Tag_Index_List:\n",
    "            Tag_Vector[index] = 1\n",
    "            #print('change')\n",
    "        L_T_List[song_index].update({'Vectorized_Tags':Tag_Vector})\n",
    "    #form Trainging Data\n",
    "    DF = pd.DataFrame({'Filename':[x['Artist']+\"_\"+ x['Title'] for x in L_T_List], \n",
    "                    \"Artist\" :[x['Artist'] for x in L_T_List], \n",
    "                    \"Title\"  :[x['Title'] for x in L_T_List],\n",
    "                    \"Tags\"   :[x['Tags'] for x in L_T_List],\n",
    "                    \"VectorizedTags\":[x['Vectorized_Tags'] for x in L_T_List]})\n",
    "    DF.to_csv(\"VectorizeTagTraing_\"+str(_tagNum)+'d.csv',header = True)\n",
    "    with codecs.open('Tag_Dic_'+str(_tagNum)+'d.json','w',encoding = 'utf8') as outfile:\n",
    "        json.dump(Tag_Index_Dic,outfile)"
   ]
  },
  {
   "cell_type": "code",
   "execution_count": 98,
   "metadata": {},
   "outputs": [],
   "source": [
    "if __name__ == \"__main__\" :\n",
    "    VectorizedTrainingProducer('Lyric_Tag_Dataset.json', 'Tags_Statistic.json', 10)  "
   ]
  },
  {
   "cell_type": "code",
   "execution_count": 89,
   "metadata": {},
   "outputs": [],
   "source": []
  },
  {
   "cell_type": "code",
   "execution_count": null,
   "metadata": {},
   "outputs": [],
   "source": []
  },
  {
   "cell_type": "code",
   "execution_count": null,
   "metadata": {
    "collapsed": true
   },
   "outputs": [],
   "source": []
  }
 ],
 "metadata": {
  "kernelspec": {
   "display_name": "Python 3",
   "language": "python",
   "name": "python3"
  },
  "language_info": {
   "codemirror_mode": {
    "name": "ipython",
    "version": 3
   },
   "file_extension": ".py",
   "mimetype": "text/x-python",
   "name": "python",
   "nbconvert_exporter": "python",
   "pygments_lexer": "ipython3",
   "version": "3.6.1"
  }
 },
 "nbformat": 4,
 "nbformat_minor": 2
}
